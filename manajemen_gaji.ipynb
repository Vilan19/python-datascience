{
  "nbformat": 4,
  "nbformat_minor": 0,
  "metadata": {
    "colab": {
      "provenance": [],
      "authorship_tag": "ABX9TyNS5S8X8Qwktmi61fFmSpeD",
      "include_colab_link": true
    },
    "kernelspec": {
      "name": "python3",
      "display_name": "Python 3"
    },
    "language_info": {
      "name": "python"
    }
  },
  "cells": [
    {
      "cell_type": "markdown",
      "metadata": {
        "id": "view-in-github",
        "colab_type": "text"
      },
      "source": [
        "<a href=\"https://colab.research.google.com/github/Vilan19/python-datascience/blob/main/manajemen_gaji.ipynb\" target=\"_parent\"><img src=\"https://colab.research.google.com/assets/colab-badge.svg\" alt=\"Open In Colab\"/></a>"
      ]
    },
    {
      "cell_type": "code",
      "execution_count": 12,
      "metadata": {
        "colab": {
          "base_uri": "https://localhost:8080/"
        },
        "id": "szmGxrsZOhzK",
        "outputId": "76c54f79-4cef-4804-9dd8-61d4963fc63c"
      },
      "outputs": [
        {
          "output_type": "stream",
          "name": "stdout",
          "text": [
            "Pendapatan budi selama libur musim panas sebelum bayar pajak: 4000000\n"
          ]
        }
      ],
      "source": [
        "gaji_per_jam = 20000\n",
        "total_jam_per_minggu = 40\n",
        "minggu = 5\n",
        "\n",
        "# 1. Pendapatan budi selama libur musim panas sebelum bayar pajak\n",
        "before_pajak = gaji_per_jam * total_jam_per_minggu * minggu\n",
        "print(\"Pendapatan budi selama libur musim panas sebelum bayar pajak:\", before_pajak)\n"
      ]
    },
    {
      "cell_type": "code",
      "source": [
        "# 2. Pendapatan budi selama libur musim panas setelah bayar pajak\n",
        "pajak = 0.14 * before_pajak\n",
        "after_pajak = before_pajak - pajak\n",
        "print(\"Pendapatan budi selama libur musim panas setelah bayar pajak:\", after_pajak)"
      ],
      "metadata": {
        "colab": {
          "base_uri": "https://localhost:8080/"
        },
        "id": "RhfPmXzeS__w",
        "outputId": "5caeb917-fbd1-4e63-a362-2da51f3ca5b7"
      },
      "execution_count": 13,
      "outputs": [
        {
          "output_type": "stream",
          "name": "stdout",
          "text": [
            "Pendapatan budi selama libur musim panas setelah bayar pajak: 3440000.0\n"
          ]
        }
      ]
    },
    {
      "cell_type": "code",
      "source": [
        "# 3. jumlah uang untuk beli pakaian dan aksesoris (10%)\n",
        "baju_aksesori = 0.10 * after_pajak\n",
        "print(\"Jumlah untuk pakaian dan aksesoris:\", baju_aksesori)"
      ],
      "metadata": {
        "colab": {
          "base_uri": "https://localhost:8080/"
        },
        "id": "x4lxGjlDTDoN",
        "outputId": "f3fd3417-2b69-4118-a2c3-e9a5659e5bf9"
      },
      "execution_count": 14,
      "outputs": [
        {
          "output_type": "stream",
          "name": "stdout",
          "text": [
            "Jumlah untuk pakaian dan aksesoris: 344000.0\n"
          ]
        }
      ]
    },
    {
      "cell_type": "code",
      "source": [
        "# 4. Jumlah uang untuk beli alat tulis (1%)\n",
        "alat_tulis = 0.01 * after_pajak\n",
        "print(\"Jumlah untuk alat tulis:\", alat_tulis)"
      ],
      "metadata": {
        "colab": {
          "base_uri": "https://localhost:8080/"
        },
        "id": "ZcYpDRdcTI4m",
        "outputId": "cc94c748-538b-40f6-dd85-56d9e56ee521"
      },
      "execution_count": 15,
      "outputs": [
        {
          "output_type": "stream",
          "name": "stdout",
          "text": [
            "Jumlah untuk alat tulis: 34400.0\n"
          ]
        }
      ]
    },
    {
      "cell_type": "code",
      "source": [
        "# 5. Sedekah sebesar 25% dari sisa uang\n",
        "sisa_uang = after_pajak - (baju_aksesori + alat_tulis)\n",
        "sedekah = 0.25 * sisa_uang\n",
        "print(\"Total sedekah yang diberikan:\", sedekah)"
      ],
      "metadata": {
        "colab": {
          "base_uri": "https://localhost:8080/"
        },
        "id": "FRiP7tuJTMa8",
        "outputId": "a1acf68e-87e4-4a9e-f47d-18d442ec3132"
      },
      "execution_count": 16,
      "outputs": [
        {
          "output_type": "stream",
          "name": "stdout",
          "text": [
            "Total sedekah yang diberikan: 765400.0\n"
          ]
        }
      ]
    },
    {
      "cell_type": "code",
      "source": [
        "# 6. Pembagian sedekah: 30% untuk anak yatim\n",
        "anak_yatim = 0.30 * sedekah\n",
        "print(\"Sedekah untuk anak yatim:\", anak_yatim)"
      ],
      "metadata": {
        "colab": {
          "base_uri": "https://localhost:8080/"
        },
        "id": "A1i6R2W1TPnU",
        "outputId": "d421cffe-a162-4e27-ee51-c391ccb5f42a"
      },
      "execution_count": 17,
      "outputs": [
        {
          "output_type": "stream",
          "name": "stdout",
          "text": [
            "Sedekah untuk anak yatim: 229620.0\n"
          ]
        }
      ]
    },
    {
      "cell_type": "code",
      "source": [
        "# 7. sisanya untuk kaum dhuafa\n",
        "kaum_dhuafa = sedekah - anak_yatim\n",
        "print(\"Sedekah untuk kaum dhuafa:\", kaum_dhuafa)"
      ],
      "metadata": {
        "colab": {
          "base_uri": "https://localhost:8080/"
        },
        "id": "a5HpA-40TSgc",
        "outputId": "f0c5bd35-45dc-4e8a-a68b-f556edd6a8b2"
      },
      "execution_count": 18,
      "outputs": [
        {
          "output_type": "stream",
          "name": "stdout",
          "text": [
            "Sedekah untuk kaum dhuafa: 535780.0\n"
          ]
        }
      ]
    }
  ]
}