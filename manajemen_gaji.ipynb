{
  "nbformat": 4,
  "nbformat_minor": 0,
  "metadata": {
    "colab": {
      "provenance": [],
      "authorship_tag": "ABX9TyO8YUnLH0PAA9XoA71Y1Pdk",
      "include_colab_link": true
    },
    "kernelspec": {
      "name": "python3",
      "display_name": "Python 3"
    },
    "language_info": {
      "name": "python"
    }
  },
  "cells": [
    {
      "cell_type": "markdown",
      "metadata": {
        "id": "view-in-github",
        "colab_type": "text"
      },
      "source": [
        "<a href=\"https://colab.research.google.com/github/Vilan19/python-datascience/blob/main/manajemen_gaji.ipynb\" target=\"_parent\"><img src=\"https://colab.research.google.com/assets/colab-badge.svg\" alt=\"Open In Colab\"/></a>"
      ]
    },
    {
      "cell_type": "code",
      "execution_count": 9,
      "metadata": {
        "colab": {
          "base_uri": "https://localhost:8080/"
        },
        "id": "szmGxrsZOhzK",
        "outputId": "75736b94-4371-4ef1-aab3-0ed9d8aca11a"
      },
      "outputs": [
        {
          "output_type": "stream",
          "name": "stdout",
          "text": [
            "Pendapatan kotor sebelum pajak: 4000000\n"
          ]
        }
      ],
      "source": [
        "gaji_per_jam = 20000\n",
        "total_jam_per_minggu = 40\n",
        "minggu = 5\n",
        "\n",
        "# 1. Pendapatan budi selama libur musim panas sebelum bayar pajak\n",
        "before_pajak = gaji_per_jam * total_jam_per_minggu * minggu\n",
        "print(\"Pendapatan kotor sebelum pajak:\", before_pajak)\n"
      ]
    },
    {
      "cell_type": "code",
      "source": [
        "# 2. Pendapatan budi selama libur musim panas setelah bayar pajak\n",
        "pajak = 0.14 * before_pajak\n",
        "after_pajak = before_pajak - pajak\n",
        "print(\"Pendapatan bersih setelah pajak:\", after_pajak)"
      ],
      "metadata": {
        "colab": {
          "base_uri": "https://localhost:8080/"
        },
        "id": "RhfPmXzeS__w",
        "outputId": "41e1c68b-5250-4d11-9907-84637715b906"
      },
      "execution_count": 3,
      "outputs": [
        {
          "output_type": "stream",
          "name": "stdout",
          "text": [
            "Pendapatan bersih setelah pajak: 3440000.0\n"
          ]
        }
      ]
    },
    {
      "cell_type": "code",
      "source": [
        "# 3. jumlah uang untuk beli pakaian dan aksesoris (10%)\n",
        "baju_aksesori = 0.10 * after_pajak\n",
        "print(\"Jumlah untuk pakaian dan aksesoris:\", baju_aksesori)"
      ],
      "metadata": {
        "colab": {
          "base_uri": "https://localhost:8080/"
        },
        "id": "x4lxGjlDTDoN",
        "outputId": "138dbcb2-5fdf-4aa9-9244-2d1bd06de105"
      },
      "execution_count": 4,
      "outputs": [
        {
          "output_type": "stream",
          "name": "stdout",
          "text": [
            "Jumlah untuk pakaian dan aksesoris: 344000.0\n"
          ]
        }
      ]
    },
    {
      "cell_type": "code",
      "source": [
        "# 4. Jumlah uang untuk beli alat tulis (1%)\n",
        "alat_tulis = 0.01 * after_pajak\n",
        "print(\"Jumlah untuk alat tulis:\", alat_tulis)"
      ],
      "metadata": {
        "colab": {
          "base_uri": "https://localhost:8080/"
        },
        "id": "ZcYpDRdcTI4m",
        "outputId": "37ba0487-a789-4fdc-a4ff-bed2317234db"
      },
      "execution_count": 5,
      "outputs": [
        {
          "output_type": "stream",
          "name": "stdout",
          "text": [
            "Jumlah untuk alat tulis: 34400.0\n"
          ]
        }
      ]
    },
    {
      "cell_type": "code",
      "source": [
        "# 5. Sedekah sebesar 25% dari sisa uang\n",
        "sisa_uang = after_pajak - (baju_aksesori + alat_tulis)\n",
        "sedekah = 0.25 * sisa_uang\n",
        "print(\"Total sedekah yang diberikan:\", sedekah)"
      ],
      "metadata": {
        "colab": {
          "base_uri": "https://localhost:8080/"
        },
        "id": "FRiP7tuJTMa8",
        "outputId": "f5388dd1-aa22-4387-a886-77f551eac39c"
      },
      "execution_count": 6,
      "outputs": [
        {
          "output_type": "stream",
          "name": "stdout",
          "text": [
            "Total sedekah yang diberikan: 765400.0\n"
          ]
        }
      ]
    },
    {
      "cell_type": "code",
      "source": [
        "# 6. Pembagian sedekah: 30% untuk anak yatim\n",
        "anak_yatim = 0.30 * sedekah\n",
        "print(\"Sedekah untuk anak yatim:\", anak_yatim)"
      ],
      "metadata": {
        "colab": {
          "base_uri": "https://localhost:8080/"
        },
        "id": "A1i6R2W1TPnU",
        "outputId": "f9bc9a8a-95f6-4cc1-dd14-bdc9c23a1f06"
      },
      "execution_count": 7,
      "outputs": [
        {
          "output_type": "stream",
          "name": "stdout",
          "text": [
            "Sedekah untuk anak yatim: 229620.0\n"
          ]
        }
      ]
    },
    {
      "cell_type": "code",
      "source": [
        "# 7. sisanya untuk kaum dhuafa\n",
        "kaum_dhuafa = sedekah - anak_yatim\n",
        "print(\"Sedekah untuk kaum dhuafa:\", kaum_dhuafa)"
      ],
      "metadata": {
        "colab": {
          "base_uri": "https://localhost:8080/"
        },
        "id": "a5HpA-40TSgc",
        "outputId": "ed801162-9fbb-41af-dc44-9855286290a8"
      },
      "execution_count": 8,
      "outputs": [
        {
          "output_type": "stream",
          "name": "stdout",
          "text": [
            "Sedekah untuk kaum dhuafa: 535780.0\n"
          ]
        }
      ]
    }
  ]
}