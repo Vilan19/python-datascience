{
  "nbformat": 4,
  "nbformat_minor": 0,
  "metadata": {
    "colab": {
      "provenance": [],
      "include_colab_link": true
    },
    "kernelspec": {
      "name": "python3",
      "display_name": "Python 3"
    },
    "language_info": {
      "name": "python"
    }
  },
  "cells": [
    {
      "cell_type": "markdown",
      "metadata": {
        "id": "view-in-github",
        "colab_type": "text"
      },
      "source": [
        "<a href=\"https://colab.research.google.com/github/Vilan19/python-datascience/blob/main/Copy_of_Conditional_Statement.ipynb\" target=\"_parent\"><img src=\"https://colab.research.google.com/assets/colab-badge.svg\" alt=\"Open In Colab\"/></a>"
      ]
    },
    {
      "cell_type": "markdown",
      "source": [
        "**@create By : Dede Brahma Arianto S.Kom., M.Kom**"
      ],
      "metadata": {
        "id": "myqh9AIUeAwo"
      }
    },
    {
      "cell_type": "markdown",
      "source": [
        "# Conditional Statement"
      ],
      "metadata": {
        "id": "XJ2tDlS5e4Fi"
      }
    },
    {
      "cell_type": "markdown",
      "source": [
        "## Operator Perbandingan"
      ],
      "metadata": {
        "id": "AyDTmgfAfEsH"
      }
    },
    {
      "cell_type": "code",
      "execution_count": null,
      "metadata": {
        "colab": {
          "base_uri": "https://localhost:8080/"
        },
        "id": "7-CRjhyXe1Pz",
        "outputId": "d869d40e-82fe-4d0b-9b26-3f46360f7f62"
      },
      "outputs": [
        {
          "output_type": "stream",
          "name": "stdout",
          "text": [
            "Apakah sama ? True\n"
          ]
        }
      ],
      "source": [
        "#@title Kesamaan\n",
        "\n",
        "angka1 = 10\n",
        "angka2 = 10\n",
        "\n",
        "sama = angka1 == angka2\n",
        "\n",
        "print(\"Apakah sama ?\", sama)"
      ]
    },
    {
      "cell_type": "code",
      "source": [
        "#@title Tidak Sama\n",
        "\n",
        "angka1 = 10\n",
        "angka2 = 5\n",
        "\n",
        "tidak_sama = angka1 != angka2\n",
        "\n",
        "print(\"Apakah tidak sama ?\", tidak_sama)"
      ],
      "metadata": {
        "colab": {
          "base_uri": "https://localhost:8080/"
        },
        "id": "-20BhTA8fr2L",
        "outputId": "6594731b-916c-4291-d44c-4dcb15f22897"
      },
      "execution_count": null,
      "outputs": [
        {
          "output_type": "stream",
          "name": "stdout",
          "text": [
            "Apakah tidak sama ? True\n"
          ]
        }
      ]
    },
    {
      "cell_type": "code",
      "source": [
        "#@title Lebih Besar\n",
        "\n",
        "angka1 = 10\n",
        "angka2 = 5\n",
        "\n",
        "lebih_besar = angka1 > angka2\n",
        "\n",
        "print(\"Apakah lebih besar ?\", lebih_besar)"
      ],
      "metadata": {
        "colab": {
          "base_uri": "https://localhost:8080/"
        },
        "id": "HuZUbsNQf4ex",
        "outputId": "3ee1f2e8-d7b2-4797-bc2e-4881dcfd59c6"
      },
      "execution_count": null,
      "outputs": [
        {
          "output_type": "stream",
          "name": "stdout",
          "text": [
            "Apakah lebih besar ? True\n"
          ]
        }
      ]
    },
    {
      "cell_type": "code",
      "source": [
        "#@title Lebih Kecil\n",
        "\n",
        "angka1 = 10\n",
        "angka2 = 5\n",
        "\n",
        "lebih_kecil = angka1 < angka2\n",
        "\n",
        "print(\"Apakah lebih kecil ?\", lebih_kecil)"
      ],
      "metadata": {
        "colab": {
          "base_uri": "https://localhost:8080/"
        },
        "id": "B-qwVcK_gEJU",
        "outputId": "6b3a22e5-6aaa-43a5-b4e0-bb4873c881fd"
      },
      "execution_count": null,
      "outputs": [
        {
          "output_type": "stream",
          "name": "stdout",
          "text": [
            "Apakah lebih kecil ? False\n"
          ]
        }
      ]
    },
    {
      "cell_type": "code",
      "source": [
        "#@title Lebih Besar Sama Dengan\n",
        "\n",
        "angka1 = 10\n",
        "angka2 = 5\n",
        "\n",
        "lebih_besar_sama_dengan = angka1 >= angka2\n",
        "\n",
        "print(\"Apakah lebih besar atau sama dengan ?\", lebih_besar_sama_dengan)"
      ],
      "metadata": {
        "colab": {
          "base_uri": "https://localhost:8080/"
        },
        "id": "YpQtw7UjgLpE",
        "outputId": "3d2d18b8-85de-416c-dbc2-de6f7b82d601"
      },
      "execution_count": null,
      "outputs": [
        {
          "output_type": "stream",
          "name": "stdout",
          "text": [
            "Apakah lebih besar atau sama dengan ? True\n"
          ]
        }
      ]
    },
    {
      "cell_type": "code",
      "source": [
        "#@title Lebih Kecil Sama Dengan\n",
        "\n",
        "angka1 = 10\n",
        "angka2 = 5\n",
        "\n",
        "lebih_kecil_sama_dengan = angka1 <= angka2\n",
        "\n",
        "print(\"Apakah lebih besar atau sama dengan ?\", lebih_kecil_sama_dengan)"
      ],
      "metadata": {
        "colab": {
          "base_uri": "https://localhost:8080/"
        },
        "id": "BanXaPvjgV-0",
        "outputId": "96f6ae3f-4de0-474f-c5cf-d995cf170b1b"
      },
      "execution_count": null,
      "outputs": [
        {
          "output_type": "stream",
          "name": "stdout",
          "text": [
            "Apakah lebih besar atau sama dengan ? False\n"
          ]
        }
      ]
    },
    {
      "cell_type": "markdown",
      "source": [
        "## Operator Logika"
      ],
      "metadata": {
        "id": "za1DhAHrglJD"
      }
    },
    {
      "cell_type": "code",
      "source": [
        "#@title AND\n",
        "\n",
        "kondisi1 = True\n",
        "kondisi2 = True\n",
        "\n",
        "logika_and = kondisi1 and kondisi2\n",
        "\n",
        "print(\"Hasil Logika And:\", logika_and)"
      ],
      "metadata": {
        "colab": {
          "base_uri": "https://localhost:8080/"
        },
        "id": "JM9Z7doDgkz1",
        "outputId": "b4b050a6-62de-4f82-bef7-e958c762fdc5"
      },
      "execution_count": null,
      "outputs": [
        {
          "output_type": "stream",
          "name": "stdout",
          "text": [
            "Hasil Logika And: True\n"
          ]
        }
      ]
    },
    {
      "cell_type": "code",
      "source": [
        "#@title OR\n",
        "\n",
        "kondisi1 = False\n",
        "kondisi2 = True\n",
        "\n",
        "logika_or = kondisi1 or kondisi2\n",
        "\n",
        "print(\"Hasil Logika OR:\", logika_or)"
      ],
      "metadata": {
        "colab": {
          "base_uri": "https://localhost:8080/"
        },
        "id": "nG8eyqHIhQCP",
        "outputId": "227b983b-90f8-4e76-82a8-0d37be184004"
      },
      "execution_count": null,
      "outputs": [
        {
          "output_type": "stream",
          "name": "stdout",
          "text": [
            "Hasil Logika OR: True\n"
          ]
        }
      ]
    },
    {
      "cell_type": "code",
      "source": [
        "#@title NOT\n",
        "\n",
        "kondisi1 = True\n",
        "kondisi2 = False\n",
        "\n",
        "logika_not_1 = not kondisi1\n",
        "logika_not_2 = not kondisi2\n",
        "\n",
        "print(\"Hasil Logika NOT Kondisi 1:\", logika_not_1)\n",
        "print(\"Hasil Logika NOT Kondisi 2:\", logika_not_2)"
      ],
      "metadata": {
        "colab": {
          "base_uri": "https://localhost:8080/"
        },
        "id": "xXDw1daxhY1m",
        "outputId": "f375d109-4689-453e-da54-4efec1d89d5c"
      },
      "execution_count": null,
      "outputs": [
        {
          "output_type": "stream",
          "name": "stdout",
          "text": [
            "Hasil Logika NOT Kondisi 1: False\n",
            "Hasil Logika NOT Kondisi 2: True\n"
          ]
        }
      ]
    },
    {
      "cell_type": "markdown",
      "source": [
        "## Condition IF"
      ],
      "metadata": {
        "id": "D74TP5OAihzX"
      }
    },
    {
      "cell_type": "code",
      "source": [
        "#@title if\n",
        "\n",
        "bilangan = 6\n",
        "\n",
        "if bilangan > 4:\n",
        "    print(\"Bilangan positif\")"
      ],
      "metadata": {
        "id": "laWXU-XkiWmR",
        "colab": {
          "base_uri": "https://localhost:8080/"
        },
        "outputId": "2339e615-fffe-4c4b-d06c-4167429e5b5a"
      },
      "execution_count": null,
      "outputs": [
        {
          "output_type": "stream",
          "name": "stdout",
          "text": [
            "Bilangan positif\n"
          ]
        }
      ]
    },
    {
      "cell_type": "code",
      "source": [
        "#@title if-else\n",
        "\n",
        "bilangan = -5\n",
        "\n",
        "if bilangan > 0:\n",
        "    print(\"Bilangan positif\")\n",
        "else:\n",
        "    print(\"Bilangan negatif\")"
      ],
      "metadata": {
        "colab": {
          "base_uri": "https://localhost:8080/"
        },
        "id": "ynzuq7THitGc",
        "outputId": "ef0d7f9e-c411-4b93-fcc7-f8a4ae79a30e"
      },
      "execution_count": null,
      "outputs": [
        {
          "output_type": "stream",
          "name": "stdout",
          "text": [
            "Bilangan negatif\n"
          ]
        }
      ]
    },
    {
      "cell_type": "code",
      "source": [
        "#@title if-elif-else\n",
        "\n",
        "bilangan = 80\n",
        "\n",
        "if bilangan > 0:\n",
        "    print(\"Bilangan positif\")\n",
        "elif bilangan < 0:\n",
        "    print(\"Bilangan negatif\")\n",
        "else:\n",
        "    print(\"Nol\")\n"
      ],
      "metadata": {
        "colab": {
          "base_uri": "https://localhost:8080/"
        },
        "id": "Y3XvBNOriyHb",
        "outputId": "c9c4064b-50dc-4efd-d6f2-81f28913565f"
      },
      "execution_count": null,
      "outputs": [
        {
          "output_type": "stream",
          "name": "stdout",
          "text": [
            "Bilangan positif\n"
          ]
        }
      ]
    },
    {
      "cell_type": "markdown",
      "source": [
        "## Soal 1\n",
        "\n",
        "Buatlah script program memeriksa apakah bilangan yang dimasukkan ganjil atau genap. Jika angka yang dimasukkan bernilai genap, akan muncul output: “Angka bernilai genap”. Namun jika angka yang dimasukkan bernilai ganjil, akan muncul output: “Angka bernilai ganjil”."
      ],
      "metadata": {
        "id": "1_k6bMnAh4mq"
      }
    },
    {
      "cell_type": "code",
      "source": [
        "bilangan = int(input(\"Masukkan sebuah bilangan: \"))\n",
        "if bilangan % 2 == 0:\n",
        "    print(\"Angka bernilai genap\")\n",
        "else:\n",
        "    print(\"Angka bernilai ganjil\")"
      ],
      "metadata": {
        "colab": {
          "base_uri": "https://localhost:8080/"
        },
        "id": "DK151FdEEKvU",
        "outputId": "d2206202-e059-4001-baca-4fbf89ce32f4"
      },
      "execution_count": null,
      "outputs": [
        {
          "output_type": "stream",
          "name": "stdout",
          "text": [
            "Masukkan sebuah bilangan: 5\n",
            "Angka bernilai ganjil\n"
          ]
        }
      ]
    },
    {
      "cell_type": "markdown",
      "source": [
        "## Soal 2\n",
        "\n",
        "Buatlah script yang memberikan output sebagai berikut:\n",
        "Jika angka kelipatan 3, beri output “fizz”\n",
        "Jika angka kelipatan 5, beri output “buzz”\n",
        "Jika angka kelipatan 3 dan 5 beri output “fizzbuzz”\n",
        "Selain itu beri output “Nayy”\n"
      ],
      "metadata": {
        "id": "8RSV1ESjjF0k"
      }
    },
    {
      "cell_type": "code",
      "source": [
        "bilangan = int(input(\"Masukkan sebuah bilangan: \"))\n",
        "\n",
        "# Memeriksa kondisi angka\n",
        "if bilangan % 3 == 0 and bilangan % 5 == 0:\n",
        "    print(\"fizzbuzz\")\n",
        "elif bilangan % 3 == 0:\n",
        "    print(\"fizz\")\n",
        "elif bilangan % 5 == 0:\n",
        "    print(\"buzz\")\n",
        "else:\n",
        "    print(\"Nayy\")\n"
      ],
      "metadata": {
        "colab": {
          "base_uri": "https://localhost:8080/"
        },
        "id": "2b8Z31RIGS8n",
        "outputId": "9b3830c5-0452-4b83-ba20-204fedd01590"
      },
      "execution_count": null,
      "outputs": [
        {
          "output_type": "stream",
          "name": "stdout",
          "text": [
            "Masukkan sebuah bilangan: 50\n",
            "buzz\n"
          ]
        }
      ]
    },
    {
      "cell_type": "markdown",
      "source": [
        "## Soal 3\n",
        "\n",
        "Buat contoh dari :\n",
        "* Operator perbandingan\n",
        "* Operator Logika\n",
        "* Operator Condition"
      ],
      "metadata": {
        "id": "dhLO_DxGWEpi"
      }
    },
    {
      "cell_type": "code",
      "execution_count": null,
      "metadata": {
        "colab": {
          "base_uri": "https://localhost:8080/"
        },
        "outputId": "d869d40e-82fe-4d0b-9b26-3f46360f7f62",
        "id": "pmP1NiJ3Ilkd"
      },
      "outputs": [
        {
          "output_type": "stream",
          "name": "stdout",
          "text": [
            "Apakah sama ? True\n"
          ]
        }
      ],
      "source": [
        "#@title Kesamaan\n",
        "\n",
        "angka1 = 10\n",
        "angka2 = 10\n",
        "\n",
        "sama = angka1 == angka2\n",
        "\n",
        "print(\"Apakah sama ?\", sama)"
      ]
    },
    {
      "cell_type": "code",
      "source": [
        "#@title Tidak Sama\n",
        "\n",
        "angka1 = 10\n",
        "angka2 = 5\n",
        "\n",
        "tidak_sama = angka1 != angka2\n",
        "\n",
        "print(\"Apakah tidak sama ?\", tidak_sama)"
      ],
      "metadata": {
        "colab": {
          "base_uri": "https://localhost:8080/"
        },
        "outputId": "6594731b-916c-4291-d44c-4dcb15f22897",
        "id": "iuew7TWbIlkd"
      },
      "execution_count": null,
      "outputs": [
        {
          "output_type": "stream",
          "name": "stdout",
          "text": [
            "Apakah tidak sama ? True\n"
          ]
        }
      ]
    },
    {
      "cell_type": "code",
      "source": [
        "#@title Lebih Besar\n",
        "\n",
        "angka1 = 10\n",
        "angka2 = 5\n",
        "\n",
        "lebih_besar = angka1 > angka2\n",
        "\n",
        "print(\"Apakah lebih besar ?\", lebih_besar)"
      ],
      "metadata": {
        "colab": {
          "base_uri": "https://localhost:8080/"
        },
        "outputId": "3ee1f2e8-d7b2-4797-bc2e-4881dcfd59c6",
        "id": "fpxUdPJPIlkd"
      },
      "execution_count": null,
      "outputs": [
        {
          "output_type": "stream",
          "name": "stdout",
          "text": [
            "Apakah lebih besar ? True\n"
          ]
        }
      ]
    },
    {
      "cell_type": "code",
      "source": [
        "#@title Lebih Kecil\n",
        "\n",
        "angka1 = 10\n",
        "angka2 = 5\n",
        "\n",
        "lebih_kecil = angka1 < angka2\n",
        "\n",
        "print(\"Apakah lebih kecil ?\", lebih_kecil)"
      ],
      "metadata": {
        "colab": {
          "base_uri": "https://localhost:8080/"
        },
        "outputId": "6b3a22e5-6aaa-43a5-b4e0-bb4873c881fd",
        "id": "WJ4y5YdQIlke"
      },
      "execution_count": null,
      "outputs": [
        {
          "output_type": "stream",
          "name": "stdout",
          "text": [
            "Apakah lebih kecil ? False\n"
          ]
        }
      ]
    },
    {
      "cell_type": "code",
      "source": [
        "#@title Lebih Besar Sama Dengan\n",
        "\n",
        "angka1 = 10\n",
        "angka2 = 5\n",
        "\n",
        "lebih_besar_sama_dengan = angka1 >= angka2\n",
        "\n",
        "print(\"Apakah lebih besar atau sama dengan ?\", lebih_besar_sama_dengan)"
      ],
      "metadata": {
        "colab": {
          "base_uri": "https://localhost:8080/"
        },
        "outputId": "3d2d18b8-85de-416c-dbc2-de6f7b82d601",
        "id": "wsLTFAzpIlke"
      },
      "execution_count": null,
      "outputs": [
        {
          "output_type": "stream",
          "name": "stdout",
          "text": [
            "Apakah lebih besar atau sama dengan ? True\n"
          ]
        }
      ]
    },
    {
      "cell_type": "code",
      "source": [
        "#@title Lebih Kecil Sama Dengan\n",
        "\n",
        "angka1 = 10\n",
        "angka2 = 5\n",
        "\n",
        "lebih_kecil_sama_dengan = angka1 <= angka2\n",
        "\n",
        "print(\"Apakah lebih besar atau sama dengan ?\", lebih_kecil_sama_dengan)"
      ],
      "metadata": {
        "colab": {
          "base_uri": "https://localhost:8080/"
        },
        "outputId": "96f6ae3f-4de0-474f-c5cf-d995cf170b1b",
        "id": "psauJMquIlke"
      },
      "execution_count": null,
      "outputs": [
        {
          "output_type": "stream",
          "name": "stdout",
          "text": [
            "Apakah lebih besar atau sama dengan ? False\n"
          ]
        }
      ]
    },
    {
      "cell_type": "markdown",
      "source": [
        "## Soal 4\n",
        "\n",
        "buah = [\"nanas\", \"apel\", \"jeruk\"]\n",
        "\n",
        "buat conditional if dengan loop"
      ],
      "metadata": {
        "id": "Pp_w8r4Aom9S"
      }
    },
    {
      "cell_type": "code",
      "source": [
        "# List buah\n",
        "buah = [\"nanas\", \"apel\", \"jeruk\"]\n",
        "\n",
        "# Loop untuk memeriksa setiap elemen dalam list buah\n",
        "for item in buah:\n",
        "    if item == \"apel\":\n",
        "        print(f\"{item} adalah buah favorit!\")\n",
        "    elif item == \"jeruk\":\n",
        "        print(f\"{item} kaya vitamin C!\")\n",
        "    else:\n",
        "        print(f\"{item} enak dan segar!\")"
      ],
      "metadata": {
        "colab": {
          "base_uri": "https://localhost:8080/"
        },
        "id": "8EvGIMVjJU7T",
        "outputId": "e3aacc36-6f08-4498-c124-3003b032804f"
      },
      "execution_count": null,
      "outputs": [
        {
          "output_type": "stream",
          "name": "stdout",
          "text": [
            "nanas enak dan segar!\n",
            "apel adalah buah favorit!\n",
            "jeruk kaya vitamin C!\n"
          ]
        }
      ]
    }
  ]
}