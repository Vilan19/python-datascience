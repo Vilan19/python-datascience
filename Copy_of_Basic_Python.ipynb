{
  "nbformat": 4,
  "nbformat_minor": 0,
  "metadata": {
    "colab": {
      "provenance": [],
      "include_colab_link": true
    },
    "kernelspec": {
      "name": "python3",
      "display_name": "Python 3"
    },
    "language_info": {
      "name": "python"
    }
  },
  "cells": [
    {
      "cell_type": "markdown",
      "metadata": {
        "id": "view-in-github",
        "colab_type": "text"
      },
      "source": [
        "<a href=\"https://colab.research.google.com/github/Vilan19/python-datascience/blob/main/Copy_of_Basic_Python.ipynb\" target=\"_parent\"><img src=\"https://colab.research.google.com/assets/colab-badge.svg\" alt=\"Open In Colab\"/></a>"
      ]
    },
    {
      "cell_type": "markdown",
      "source": [
        "**@create By : Dede Brahma Arianto S.Kom., M.Kom**"
      ],
      "metadata": {
        "id": "647cG5G4dz5U"
      }
    },
    {
      "cell_type": "markdown",
      "source": [
        "# Basic Python"
      ],
      "metadata": {
        "id": "Vx4h1_ZPZrkq"
      }
    },
    {
      "cell_type": "markdown",
      "source": [
        "## Variable"
      ],
      "metadata": {
        "id": "ufVeYZSOZvv0"
      }
    },
    {
      "cell_type": "code",
      "execution_count": null,
      "metadata": {
        "id": "87-xocetZZoL"
      },
      "outputs": [],
      "source": [
        "#@title Variable\n",
        "\n",
        "nama = 'Dede'\n",
        "umur = 18\n",
        "berat_badan = 87.5"
      ]
    },
    {
      "cell_type": "code",
      "source": [
        "print(\"Nama :\", nama)\n",
        "print(\"Umur :\", umur)\n",
        "print(\"Berat Badan :\", berat_badan)"
      ],
      "metadata": {
        "colab": {
          "base_uri": "https://localhost:8080/"
        },
        "id": "Ls3AgQzXZ7He",
        "outputId": "3a3f8901-d3d9-4881-ee30-a1ce10451af8"
      },
      "execution_count": null,
      "outputs": [
        {
          "output_type": "stream",
          "name": "stdout",
          "text": [
            "Nama : Dede\n",
            "Umur : 18\n",
            "Berat Badan : 87.5\n"
          ]
        }
      ]
    },
    {
      "cell_type": "code",
      "source": [
        "#@title Variable with Input\n",
        "\n",
        "nama2 = input(\"Masukkan Nama Anda: \")\n",
        "umur2 = input(\"Masukkan Usia Anda: \")\n",
        "berat_badan2 = input(\"Masukkan Berat Badan Anda: \")"
      ],
      "metadata": {
        "colab": {
          "base_uri": "https://localhost:8080/"
        },
        "id": "-gQF582faZHh",
        "outputId": "eb3eefd3-7006-48ab-a408-62011563d301"
      },
      "execution_count": null,
      "outputs": [
        {
          "name": "stdout",
          "output_type": "stream",
          "text": [
            "Masukkan Nama Anda: vilan\n",
            "Masukkan Usia Anda: 21\n",
            "Masukkan Berat Badan Anda: 81\n"
          ]
        }
      ]
    },
    {
      "cell_type": "code",
      "source": [
        "print(\"Nama :\", nama2)\n",
        "print(\"Umur :\", umur2)\n",
        "print(\"Berat Badan :\", berat_badan2)"
      ],
      "metadata": {
        "colab": {
          "base_uri": "https://localhost:8080/"
        },
        "id": "ZlzkVLF1aqlc",
        "outputId": "b1169727-8b6c-468b-a596-011624fcd6ea"
      },
      "execution_count": null,
      "outputs": [
        {
          "output_type": "stream",
          "name": "stdout",
          "text": [
            "Nama : vilan\n",
            "Umur : 21\n",
            "Berat Badan : 81\n"
          ]
        }
      ]
    },
    {
      "cell_type": "code",
      "source": [
        "#@title Calculate with Variable\n",
        "\n",
        "tinggi_badan = 1.75\n",
        "bmi = berat_badan / (tinggi_badan ** 2)\n",
        "\n",
        "print(\"Berat Ideal :\", bmi)"
      ],
      "metadata": {
        "id": "YKMgaqCfaCkx",
        "colab": {
          "base_uri": "https://localhost:8080/"
        },
        "outputId": "c78e2e4d-771b-44af-8e90-4ded55e87911"
      },
      "execution_count": null,
      "outputs": [
        {
          "output_type": "stream",
          "name": "stdout",
          "text": [
            "Berat Ideal : 28.571428571428573\n"
          ]
        }
      ]
    },
    {
      "cell_type": "code",
      "source": [
        "#@title Update Value Variable\n",
        "\n",
        "umur2 = 22"
      ],
      "metadata": {
        "id": "a8qc7E1WaGGZ"
      },
      "execution_count": null,
      "outputs": []
    },
    {
      "cell_type": "code",
      "source": [
        "from google.colab import drive\n",
        "drive.mount('/content/drive')"
      ],
      "metadata": {
        "colab": {
          "base_uri": "https://localhost:8080/"
        },
        "id": "aKOHL7Tc8BFA",
        "outputId": "23b51c61-2fe8-4376-8f3d-c71e229c5723"
      },
      "execution_count": null,
      "outputs": [
        {
          "output_type": "stream",
          "name": "stdout",
          "text": [
            "Mounted at /content/drive\n"
          ]
        }
      ]
    },
    {
      "cell_type": "code",
      "source": [
        "name = 'Vilan Purnama'\n",
        "print(name)"
      ],
      "metadata": {
        "id": "-9DxmSPX8dOO",
        "colab": {
          "base_uri": "https://localhost:8080/"
        },
        "outputId": "da14dee7-4326-4714-a145-0d74f385a992"
      },
      "execution_count": null,
      "outputs": [
        {
          "output_type": "stream",
          "name": "stdout",
          "text": [
            "Vilan Purnama\n"
          ]
        }
      ]
    },
    {
      "cell_type": "markdown",
      "source": [],
      "metadata": {
        "id": "GEXISQS88fz9"
      }
    },
    {
      "cell_type": "code",
      "source": [
        "print(\"Nama :\", nama)\n",
        "print(\"Umur 1 :\", umur)\n",
        "print(\"Umur 2 :\", umur2)\n",
        "print(\"Berat Badan :\", berat_badan)\n",
        "print(\"Tinggi Badan :\", tinggi_badan)\n",
        "print(\"BMI :\", bmi)"
      ],
      "metadata": {
        "id": "WVtI888GaHxp",
        "colab": {
          "base_uri": "https://localhost:8080/"
        },
        "outputId": "475b4b41-6b74-4747-c8f0-9aafb770ab6a"
      },
      "execution_count": null,
      "outputs": [
        {
          "output_type": "stream",
          "name": "stdout",
          "text": [
            "Nama : Dede\n",
            "Umur 1 : 18\n",
            "Umur 2 : 22\n",
            "Berat Badan : 87.5\n",
            "Tinggi Badan : 1.75\n",
            "BMI : 28.571428571428573\n"
          ]
        }
      ]
    },
    {
      "cell_type": "code",
      "source": [
        "nama_1 = 'dede'\n",
        "print(nama_1)"
      ],
      "metadata": {
        "id": "RdTiJw-mY2eP",
        "colab": {
          "base_uri": "https://localhost:8080/"
        },
        "outputId": "9c3eba42-325f-445b-c05e-16ccb40c6407"
      },
      "execution_count": null,
      "outputs": [
        {
          "output_type": "stream",
          "name": "stdout",
          "text": [
            "dede\n"
          ]
        }
      ]
    },
    {
      "cell_type": "markdown",
      "source": [
        "## Komentar"
      ],
      "metadata": {
        "id": "HGYxcfrijgy9"
      }
    },
    {
      "cell_type": "code",
      "source": [
        "# ini adalah komentar\n",
        "# nama = 'dede' # ini adalah variabel nama\n",
        "# print(nama)\n",
        "# block code, kemudian ctrl + /"
      ],
      "metadata": {
        "id": "_fy41rfajiuL"
      },
      "execution_count": null,
      "outputs": []
    },
    {
      "cell_type": "markdown",
      "source": [
        "## Data Type"
      ],
      "metadata": {
        "id": "Dbi8Pj0zaKi8"
      }
    },
    {
      "cell_type": "code",
      "source": [
        "#@title Numeric Data Type\n",
        "\n",
        "a = 10        # integer\n",
        "b = 3.14      # float"
      ],
      "metadata": {
        "id": "yeYdU144axpr"
      },
      "execution_count": null,
      "outputs": []
    },
    {
      "cell_type": "code",
      "source": [
        "print(\"A :\", a)\n",
        "print(\"B :\", b)"
      ],
      "metadata": {
        "id": "OUXtKgVKazEf",
        "colab": {
          "base_uri": "https://localhost:8080/"
        },
        "outputId": "9edb1b7a-8893-4c6b-ddc6-a33a018b418e"
      },
      "execution_count": null,
      "outputs": [
        {
          "output_type": "stream",
          "name": "stdout",
          "text": [
            "A : 10\n",
            "B : 3.14\n"
          ]
        }
      ]
    },
    {
      "cell_type": "code",
      "source": [
        "#@title String Data Type\n",
        "\n",
        "nama = \"John Doe\"   # string\n",
        "alamat = 'Jl. Ahmad Yani No. 10'   # string"
      ],
      "metadata": {
        "id": "JO4oLtX4a2Sh"
      },
      "execution_count": null,
      "outputs": []
    },
    {
      "cell_type": "code",
      "source": [
        "print(\"Nama :\", nama)\n",
        "print(\"Alamat :\", alamat)"
      ],
      "metadata": {
        "id": "JXF-1K5sa4Ok",
        "colab": {
          "base_uri": "https://localhost:8080/"
        },
        "outputId": "7167a80c-84f1-452d-a25c-7d582ffc373c"
      },
      "execution_count": null,
      "outputs": [
        {
          "output_type": "stream",
          "name": "stdout",
          "text": [
            "Nama : John Doe\n",
            "Alamat : Jl. Ahmad Yani No. 10\n"
          ]
        }
      ]
    },
    {
      "cell_type": "code",
      "source": [
        "#@title Boolean Data Type\n",
        "\n",
        "benar = True      # boolean True\n",
        "salah = False     # boolean False"
      ],
      "metadata": {
        "id": "mE4oTRxBa6AD"
      },
      "execution_count": null,
      "outputs": []
    },
    {
      "cell_type": "code",
      "source": [
        "print(benar)"
      ],
      "metadata": {
        "id": "s71WtN8Ba8Jb",
        "colab": {
          "base_uri": "https://localhost:8080/"
        },
        "outputId": "46913c70-6e2c-46ed-a93c-3e305f148b10"
      },
      "execution_count": null,
      "outputs": [
        {
          "output_type": "stream",
          "name": "stdout",
          "text": [
            "True\n"
          ]
        }
      ]
    },
    {
      "cell_type": "code",
      "source": [
        "#@title List Data Type\n",
        "\n",
        "buah = ['apel', 'jeruk', 'mangga', 'pisang']  # list\n",
        "angka = [1, 2, 3, 4, 5]                      # list"
      ],
      "metadata": {
        "id": "7ZN6pSGEa96S"
      },
      "execution_count": null,
      "outputs": []
    },
    {
      "cell_type": "code",
      "source": [
        "print(\"Buah :\", buah)\n",
        "print(\"Angka :\", angka)"
      ],
      "metadata": {
        "colab": {
          "base_uri": "https://localhost:8080/"
        },
        "id": "RBi4lb7ua_5r",
        "outputId": "4a1a2f5a-0d01-448b-baee-a94adf6f1a0c"
      },
      "execution_count": null,
      "outputs": [
        {
          "output_type": "stream",
          "name": "stdout",
          "text": [
            "Buah : ['apel', 'jeruk', 'mangga', 'pisang']\n",
            "Angka : [1, 2, 3, 4, 5]\n"
          ]
        }
      ]
    },
    {
      "cell_type": "code",
      "source": [
        "#@title Tuple Data Type\n",
        "\n",
        "hari = ('Senin', 'Selasa', 'Rabu', 'Kamis', 'Jumat')  #\n",
        "bulan = ('Januari', 'Februari', 'Maret')"
      ],
      "metadata": {
        "id": "YRvLQcuFbBuT"
      },
      "execution_count": null,
      "outputs": []
    },
    {
      "cell_type": "code",
      "source": [
        "print(\"Hari :\", hari)\n",
        "print(\"Bulan :\", bulan)"
      ],
      "metadata": {
        "colab": {
          "base_uri": "https://localhost:8080/"
        },
        "id": "9tyWq7tubDE-",
        "outputId": "0224cce5-a9c2-443a-f358-5ef503469b28"
      },
      "execution_count": null,
      "outputs": [
        {
          "output_type": "stream",
          "name": "stdout",
          "text": [
            "Hari : ('Senin', 'Selasa', 'Rabu', 'Kamis', 'Jumat')\n",
            "Bulan : ('Januari', 'Februari', 'Maret')\n"
          ]
        }
      ]
    },
    {
      "cell_type": "code",
      "source": [
        "#@title Set Data Type\n",
        "\n",
        "buah = {'apel', 'jeruk', 'mangga', 'pisang'}  # set\n",
        "angka = set([1, 2, 3, 4, 5])"
      ],
      "metadata": {
        "id": "MxRWQ5TbbEom"
      },
      "execution_count": null,
      "outputs": []
    },
    {
      "cell_type": "code",
      "source": [
        "print(\"Buah :\", buah)\n",
        "print(\"Angka :\", angka)"
      ],
      "metadata": {
        "colab": {
          "base_uri": "https://localhost:8080/"
        },
        "id": "nMZFDD-1bGTe",
        "outputId": "a8155dd3-f622-4033-cb55-78d35286b30b"
      },
      "execution_count": null,
      "outputs": [
        {
          "output_type": "stream",
          "name": "stdout",
          "text": [
            "Buah : {'jeruk', 'pisang', 'apel', 'mangga'}\n",
            "Angka : {1, 2, 3, 4, 5}\n"
          ]
        }
      ]
    },
    {
      "cell_type": "code",
      "source": [
        "#@title Dictionary Data Type\n",
        "\n",
        "data = {'nama': 'John Doe', 'umur': 25, 'alamat': 'Jl. Ahmad Yani No. 10'}   # dictionary\n",
        "# key (nama, umur, alamat)\n",
        "# value (john doe, 25, jl.ahmad yani)"
      ],
      "metadata": {
        "id": "_wxU3Ez8bH62"
      },
      "execution_count": null,
      "outputs": []
    },
    {
      "cell_type": "code",
      "source": [
        "print(data)"
      ],
      "metadata": {
        "colab": {
          "base_uri": "https://localhost:8080/"
        },
        "id": "9DVNG1olbJoW",
        "outputId": "2d31aa66-efe4-4769-f546-346d12e42b33"
      },
      "execution_count": null,
      "outputs": [
        {
          "output_type": "stream",
          "name": "stdout",
          "text": [
            "{'nama': 'John Doe', 'umur': 25, 'alamat': 'Jl. Ahmad Yani No. 10'}\n"
          ]
        }
      ]
    },
    {
      "cell_type": "code",
      "source": [
        "#@title Data Type Checking\n",
        "\n",
        "# Tipe data integer\n",
        "x = 5\n",
        "print(type(x))    # Output: <class 'int'>\n",
        "\n",
        "# Tipe data float\n",
        "y = 3.14\n",
        "print(type(y))    # Output: <class 'float'>\n",
        "\n",
        "# Tipe data string\n",
        "z = 'Hello, World!'\n",
        "print(type(z))    # Output: <class 'str'>\n",
        "\n",
        "# Tipe data boolean\n",
        "a = True\n",
        "print(type(a))    # Output: <class 'bool'>\n",
        "\n",
        "# Tipe data list\n",
        "b = [1, 2, 3, 4, 5]\n",
        "print(type(b))    # Output: <class 'list'>\n",
        "\n",
        "# Tipe data tuple\n",
        "c = (1, 2, 3, 4, 5)\n",
        "print(type(c))    # Output: <class 'tuple'>\n",
        "\n",
        "# Tipe data set\n",
        "d = {1, 2, 3, 4, 5}\n",
        "print(type(d))    # Output: <class 'set'>\n",
        "\n",
        "# Tipe data dictionary\n",
        "e = {'nama': 'John Doe', 'umur': 25}\n",
        "print(type(e))    # Output: <class 'dict'>\n"
      ],
      "metadata": {
        "colab": {
          "base_uri": "https://localhost:8080/"
        },
        "id": "skM8zbVjbNaW",
        "outputId": "85769d41-e879-4fc4-ff94-4e2d3e0b405b"
      },
      "execution_count": null,
      "outputs": [
        {
          "output_type": "stream",
          "name": "stdout",
          "text": [
            "<class 'int'>\n",
            "<class 'float'>\n",
            "<class 'str'>\n",
            "<class 'bool'>\n",
            "<class 'list'>\n",
            "<class 'tuple'>\n",
            "<class 'set'>\n",
            "<class 'dict'>\n"
          ]
        }
      ]
    },
    {
      "cell_type": "markdown",
      "source": [
        "## Basic arithmetic operation"
      ],
      "metadata": {
        "id": "AcLWUH9GbSnm"
      }
    },
    {
      "cell_type": "code",
      "source": [
        "#@title Penjumlahan\n",
        "\n",
        "x = 10\n",
        "y = 5\n",
        "z = x + y\n",
        "print(z)    # Output: 15"
      ],
      "metadata": {
        "colab": {
          "base_uri": "https://localhost:8080/"
        },
        "id": "l_aAThBLbU4e",
        "outputId": "39e7a069-3258-4e20-92d2-73ed7beab310"
      },
      "execution_count": null,
      "outputs": [
        {
          "output_type": "stream",
          "name": "stdout",
          "text": [
            "15\n"
          ]
        }
      ]
    },
    {
      "cell_type": "code",
      "source": [
        "#@title Pengurangan\n",
        "\n",
        "x = 10\n",
        "y = 5\n",
        "z = x - y\n",
        "print(z)    # Output: 5"
      ],
      "metadata": {
        "colab": {
          "base_uri": "https://localhost:8080/"
        },
        "id": "wxVGljMHbb7u",
        "outputId": "fecd4dfc-99e3-45c4-c3d7-d80d5de48780"
      },
      "execution_count": null,
      "outputs": [
        {
          "output_type": "stream",
          "name": "stdout",
          "text": [
            "5\n"
          ]
        }
      ]
    },
    {
      "cell_type": "code",
      "source": [
        "#@title Perkalian\n",
        "\n",
        "\n",
        "x = 10\n",
        "y = 5\n",
        "z = x * y\n",
        "print(z)    # Output: 50"
      ],
      "metadata": {
        "colab": {
          "base_uri": "https://localhost:8080/"
        },
        "id": "EF7SGyddbeEz",
        "outputId": "1df9f453-fbac-4c8a-9e7a-54f682ee5ddc"
      },
      "execution_count": null,
      "outputs": [
        {
          "output_type": "stream",
          "name": "stdout",
          "text": [
            "50\n"
          ]
        }
      ]
    },
    {
      "cell_type": "code",
      "source": [
        "#@title Pembagian\n",
        "\n",
        "x = 10\n",
        "y = 5\n",
        "z = x / y\n",
        "print(z)    # Output: 2.0"
      ],
      "metadata": {
        "colab": {
          "base_uri": "https://localhost:8080/"
        },
        "id": "Wf7u9-hgbgEl",
        "outputId": "147efc56-031a-4f0d-86a9-df18b7e72df0"
      },
      "execution_count": null,
      "outputs": [
        {
          "output_type": "stream",
          "name": "stdout",
          "text": [
            "2.0\n"
          ]
        }
      ]
    },
    {
      "cell_type": "code",
      "source": [
        "#@title Pembagian Bulat\n",
        "\n",
        "x = 9\n",
        "y = 3\n",
        "z = x // y\n",
        "print(z)    # Output: 3"
      ],
      "metadata": {
        "colab": {
          "base_uri": "https://localhost:8080/"
        },
        "id": "cpIu7qXhbiWd",
        "outputId": "d582ffbe-9d03-4d2e-dad8-115397ee8042"
      },
      "execution_count": null,
      "outputs": [
        {
          "output_type": "stream",
          "name": "stdout",
          "text": [
            "3\n"
          ]
        }
      ]
    },
    {
      "cell_type": "code",
      "source": [
        "#@title Modulus\n",
        "\n",
        "x = 13\n",
        "y = 3\n",
        "z = x % y\n",
        "print(z)    # Output: 1"
      ],
      "metadata": {
        "colab": {
          "base_uri": "https://localhost:8080/"
        },
        "id": "azsN3WPrblKp",
        "outputId": "97599fba-620f-43fa-be8c-a8327227132f"
      },
      "execution_count": null,
      "outputs": [
        {
          "output_type": "stream",
          "name": "stdout",
          "text": [
            "1\n"
          ]
        }
      ]
    },
    {
      "cell_type": "code",
      "source": [
        "#@title Pangkat\n",
        "\n",
        "\n",
        "x = 2\n",
        "y = 3\n",
        "z = x ** y\n",
        "print(z)    # Output: 8"
      ],
      "metadata": {
        "colab": {
          "base_uri": "https://localhost:8080/"
        },
        "id": "3i2XCuqEbnYV",
        "outputId": "6a2f4059-a271-44d8-fe90-48e5aa09c72c"
      },
      "execution_count": null,
      "outputs": [
        {
          "output_type": "stream",
          "name": "stdout",
          "text": [
            "8\n"
          ]
        }
      ]
    },
    {
      "cell_type": "markdown",
      "source": [
        "## String Manipulation"
      ],
      "metadata": {
        "id": "CCJi8zg5buZy"
      }
    },
    {
      "cell_type": "code",
      "source": [
        "#@title Concatenation\n",
        "\n",
        "\n",
        "a = \"Halo\"\n",
        "b = \"Dunia\"\n",
        "c = a + \" \" + b\n",
        "print(c) # Output: \"Halo Dunia\"\n"
      ],
      "metadata": {
        "colab": {
          "base_uri": "https://localhost:8080/"
        },
        "id": "KQnB7EZLbwAx",
        "outputId": "a4d34764-4742-4c90-b0c1-52e4d8606a0d"
      },
      "execution_count": null,
      "outputs": [
        {
          "output_type": "stream",
          "name": "stdout",
          "text": [
            "Halo Dunia\n"
          ]
        }
      ]
    },
    {
      "cell_type": "code",
      "source": [
        "#@title Multiplication\n",
        "\n",
        "a = \"Halo \"\n",
        "b = a * 3\n",
        "print(b) # Output: \"Halo Halo Halo \"\n"
      ],
      "metadata": {
        "colab": {
          "base_uri": "https://localhost:8080/"
        },
        "id": "zY8x2GTNb3wR",
        "outputId": "017a99e4-f8a8-4744-8d58-e2c2cc6a15a0"
      },
      "execution_count": null,
      "outputs": [
        {
          "output_type": "stream",
          "name": "stdout",
          "text": [
            "Halo Halo Halo \n"
          ]
        }
      ]
    },
    {
      "cell_type": "code",
      "source": [
        "#@title Indexing\n",
        "\n",
        "# index, start = 0\n",
        "# index positif = 0,1,2,3\n",
        "# index negatif = -1, -2, -3\n",
        "a = \"Halo, Dunia!\"\n",
        "\n",
        "b = a[0]\n",
        "c = a[2]\n",
        "d = a[-1]\n",
        "e = a[-12]\n",
        "f = len(a)\n",
        "\n",
        "\n",
        "print(a) # Output: \"Halo, Dunia!\"\n",
        "print(b) # Output: \"H\"\n",
        "print(c) # Output: \"l\"\n",
        "print(d) # Output: \"!\"\n",
        "print(e)\n",
        "print(f)"
      ],
      "metadata": {
        "colab": {
          "base_uri": "https://localhost:8080/"
        },
        "id": "UqywOYyfcgsJ",
        "outputId": "5d3eb4c7-e4f3-4e34-c8ca-65b8c9f5cc09"
      },
      "execution_count": null,
      "outputs": [
        {
          "output_type": "stream",
          "name": "stdout",
          "text": [
            "Halo, Dunia!\n",
            "H\n",
            "l\n",
            "!\n",
            "H\n",
            "12\n"
          ]
        }
      ]
    },
    {
      "cell_type": "code",
      "source": [
        "#@title Slicing\n",
        "# start:end\n",
        "# start:end:lompatan\n",
        "\n",
        "a = \"Halo Dunia\"\n",
        "b = a[0:6]\n",
        "c = a[0:8:2]\n",
        "d = a[:5]\n",
        "print(b)\n",
        "print(c) # Output: \"Halo\"\n",
        "print(d)\n"
      ],
      "metadata": {
        "colab": {
          "base_uri": "https://localhost:8080/"
        },
        "id": "TNna8ZMPb7aR",
        "outputId": "83f2a81f-6d1c-48b2-ba3f-89d174ff6d0c"
      },
      "execution_count": null,
      "outputs": [
        {
          "output_type": "stream",
          "name": "stdout",
          "text": [
            "Halo D\n",
            "Hl u\n",
            "Halo \n"
          ]
        }
      ]
    },
    {
      "cell_type": "code",
      "source": [
        "#@title Replace\n",
        "# replace(oldvalue, newvalue)\n",
        "\n",
        "a = \"Halo Dunia\"\n",
        "b = a.replace(\"Dunia\", \"Semua\")\n",
        "print(b) # Output: \"Halo Semua\"\n"
      ],
      "metadata": {
        "colab": {
          "base_uri": "https://localhost:8080/"
        },
        "id": "6fR_YJ1mb-vt",
        "outputId": "8edd90ee-2b22-45c3-f28a-076dbb242b8f"
      },
      "execution_count": null,
      "outputs": [
        {
          "output_type": "stream",
          "name": "stdout",
          "text": [
            "Halo Semua\n"
          ]
        }
      ]
    },
    {
      "cell_type": "code",
      "source": [
        "#@title Lowercase\n",
        "\n",
        "a = \"Halo Dunia\"\n",
        "b = a.lower()\n",
        "print(b) # Output: \"halo dunia\"\n"
      ],
      "metadata": {
        "colab": {
          "base_uri": "https://localhost:8080/"
        },
        "id": "_NkMEdUJcAtk",
        "outputId": "2f823069-8ac7-424b-a989-7773ab7ebdf5"
      },
      "execution_count": null,
      "outputs": [
        {
          "output_type": "stream",
          "name": "stdout",
          "text": [
            "halo dunia\n"
          ]
        }
      ]
    },
    {
      "cell_type": "code",
      "source": [
        "#@title Uppercase\n",
        "\n",
        "a = \"Halo Dunia\"\n",
        "b = a.upper()\n",
        "print(b) # Output: \"HALO DUNIA\"\n"
      ],
      "metadata": {
        "colab": {
          "base_uri": "https://localhost:8080/"
        },
        "id": "1-cINSfKcCI4",
        "outputId": "4ee60fea-820a-45fd-d9eb-8bfce085f644"
      },
      "execution_count": null,
      "outputs": [
        {
          "output_type": "stream",
          "name": "stdout",
          "text": [
            "HALO DUNIA\n"
          ]
        }
      ]
    },
    {
      "cell_type": "code",
      "source": [
        "#@title Capitalize\n",
        "\n",
        "a = \"Halo Dunia\"\n",
        "b = a.capitalize()\n",
        "print(b) # Output: \"Halo dunia\""
      ],
      "metadata": {
        "colab": {
          "base_uri": "https://localhost:8080/"
        },
        "id": "bP2j82ftcJd4",
        "outputId": "d4ef8f8b-41f8-4647-b73c-810ccea99ea0"
      },
      "execution_count": null,
      "outputs": [
        {
          "output_type": "stream",
          "name": "stdout",
          "text": [
            "Halo dunia\n"
          ]
        }
      ]
    },
    {
      "cell_type": "code",
      "source": [
        "print(a.capitalize())"
      ],
      "metadata": {
        "colab": {
          "base_uri": "https://localhost:8080/"
        },
        "id": "w6dBYBw8j86y",
        "outputId": "7d490868-3e34-40e1-900d-d57389ecfa69"
      },
      "execution_count": null,
      "outputs": [
        {
          "output_type": "stream",
          "name": "stdout",
          "text": [
            "Halo dunia\n"
          ]
        }
      ]
    },
    {
      "cell_type": "code",
      "source": [
        "#@title Split\n",
        "\n",
        "a = \"Halo, Dunia, Semua\"\n",
        "b = a.split(\", \")\n",
        "print(type(a))\n",
        "print(b)\n",
        "print(type(b))\n",
        "print(b[1]) # Output: [\"Halo\", \"Dunia\", \"Semua\"]\n"
      ],
      "metadata": {
        "colab": {
          "base_uri": "https://localhost:8080/"
        },
        "id": "q-oqkEnVcEBE",
        "outputId": "6ae56824-2f51-4416-b629-40d35d5aabd4"
      },
      "execution_count": null,
      "outputs": [
        {
          "output_type": "stream",
          "name": "stdout",
          "text": [
            "<class 'str'>\n",
            "['Halo', 'Dunia', 'Semua']\n",
            "<class 'list'>\n",
            "Dunia\n"
          ]
        }
      ]
    },
    {
      "cell_type": "code",
      "source": [
        "#@title Join\n",
        "\n",
        "a = [\"Halo\", \"Dunia\", \"Semua\"]\n",
        "b = \", \".join(a)\n",
        "\n",
        "print(type(a))\n",
        "print(a)\n",
        "\n",
        "print(\"========\")\n",
        "print(type(b))\n",
        "print(b) # Output: \"Halo, Dunia, Semua\"\n"
      ],
      "metadata": {
        "colab": {
          "base_uri": "https://localhost:8080/"
        },
        "id": "qDv3FYvtcHWR",
        "outputId": "752a8cf6-619e-4ee5-ebdb-e65b300cc472"
      },
      "execution_count": null,
      "outputs": [
        {
          "output_type": "stream",
          "name": "stdout",
          "text": [
            "<class 'list'>\n",
            "['Halo', 'Dunia', 'Semua']\n",
            "========\n",
            "<class 'str'>\n",
            "Halo, Dunia, Semua\n"
          ]
        }
      ]
    },
    {
      "cell_type": "markdown",
      "source": [
        "## Typecasting"
      ],
      "metadata": {
        "id": "hL4dJ7pidbzS"
      }
    },
    {
      "cell_type": "code",
      "source": [
        "#@title Data Type Casting - Integer\n",
        "\n",
        "x = '5'\n",
        "y = int(x)\n",
        "\n",
        "print(type(x))\n",
        "print(y)    # Output: 5\n",
        "print(type(y)) # Output: int\n"
      ],
      "metadata": {
        "colab": {
          "base_uri": "https://localhost:8080/"
        },
        "id": "EaXA3DKPdeIE",
        "outputId": "a6c57e6a-1e8b-4225-d41a-e15e04ee5487"
      },
      "execution_count": null,
      "outputs": [
        {
          "output_type": "stream",
          "name": "stdout",
          "text": [
            "<class 'str'>\n",
            "5\n",
            "<class 'int'>\n"
          ]
        }
      ]
    },
    {
      "cell_type": "code",
      "source": [
        "#@title Data Type Casting - Float\n",
        "\n",
        "\n",
        "x = '3'\n",
        "y = float(x)\n",
        "print(y)    # Output: 3.14\n",
        "print(type(y)) # Output: float\n"
      ],
      "metadata": {
        "colab": {
          "base_uri": "https://localhost:8080/"
        },
        "id": "UAghXDHKdjei",
        "outputId": "e7d52d8c-770c-457d-cb75-992cafd2d31b"
      },
      "execution_count": null,
      "outputs": [
        {
          "output_type": "stream",
          "name": "stdout",
          "text": [
            "3.0\n",
            "<class 'float'>\n"
          ]
        }
      ]
    },
    {
      "cell_type": "code",
      "source": [
        "#@title Data Type Casting - String\n",
        "\n",
        "x = 5\n",
        "y = str(x)\n",
        "\n",
        "print(type(x))\n",
        "print(y)    # Output: '5'\n",
        "print(type(y)) # Output: str\n"
      ],
      "metadata": {
        "colab": {
          "base_uri": "https://localhost:8080/"
        },
        "id": "K4fCSz9AdlBG",
        "outputId": "7183bf5e-5e3c-4204-b106-abdb88c67a1c"
      },
      "execution_count": null,
      "outputs": [
        {
          "output_type": "stream",
          "name": "stdout",
          "text": [
            "<class 'int'>\n",
            "5\n",
            "<class 'str'>\n"
          ]
        }
      ]
    },
    {
      "cell_type": "code",
      "source": [
        "#@title Data Type Casting - Boolean\n",
        "\n",
        "x = ''\n",
        "y = bool(x)\n",
        "print(y)    # Output: False\n",
        "print(type(y)) # Output: bool\n"
      ],
      "metadata": {
        "colab": {
          "base_uri": "https://localhost:8080/"
        },
        "id": "IkQ4NKhVdmsy",
        "outputId": "f938ab1d-f1de-4d72-de7b-06dfbc01060b"
      },
      "execution_count": null,
      "outputs": [
        {
          "output_type": "stream",
          "name": "stdout",
          "text": [
            "False\n",
            "<class 'bool'>\n"
          ]
        }
      ]
    },
    {
      "cell_type": "markdown",
      "source": [
        "## Latihan"
      ],
      "metadata": {
        "id": "E1uA8qvil0y7"
      }
    },
    {
      "cell_type": "markdown",
      "source": [
        "1. Buat contoh :\n",
        "- Variabel\n",
        "- Data type\n",
        "- Arithmatic\n",
        "- manipulation\n",
        "- type casting"
      ],
      "metadata": {
        "id": "Bk7cOMhFeHjA"
      }
    },
    {
      "cell_type": "code",
      "source": [
        "# no 1\n",
        "# variable with input and data type\n",
        "name = input(\"Masukkan Nama Anda: \")\n",
        "age = input(\"Masukkan Usia Anda: \")\n",
        "bb = float(input(\"Masukkan Berat Badan Anda (kg): \"))\n",
        "tb = float(input(\"Masukkan Tinggi Badan Anda (m): \"))\n",
        "hobby = input(\"Apa Hobby Anda: \")\n",
        "bmi = bb / (tb**2) # Arithmatic\n",
        "\n",
        "print(\"================================\")\n",
        "print(\"Nama Anda: \", name)\n",
        "print(\"Usia Anda: \", age)\n",
        "print(\"Berat Badan Anda: \", bb) # type casting - float\n",
        "print(\"Tinggi Badan Anda: \", tb) # type casting - float\n",
        "print(\"Hobby Anda Adalah \", hobby)\n",
        "print(\"BMI Anda Saat Ini Adalah: \", bmi) # type casting - float\n",
        "print(\"================================\")\n",
        "\n",
        "# String manipulation = Concatenation\n",
        "a = \"Senang\"\n",
        "b = \"Bisa Membantu Anda!\"\n",
        "c = a + \" \" + b\n",
        "print(c)\n",
        "\n",
        "# Boolean\n",
        "quest = input(\"Apakah Anda ingin memperbarui usia? (y/n): \")\n",
        "update_age = quest.lower() == 'y'  # Mengubah jawaban menjadi boolean\n",
        "if update_age:\n",
        "    age = input(\"Masukkan Usia yang baru: \")\n",
        "    print(\"Usia Anda Yang Baru Adalah:\", age)\n",
        "else:\n",
        "    print(\"Usia Anda Tetap:\", age)"
      ],
      "metadata": {
        "colab": {
          "base_uri": "https://localhost:8080/",
          "height": 373
        },
        "id": "1diJaoYvwQjr",
        "outputId": "23826194-1dfa-4843-8a6e-06eed8815826"
      },
      "execution_count": null,
      "outputs": [
        {
          "output_type": "error",
          "ename": "KeyboardInterrupt",
          "evalue": "Interrupted by user",
          "traceback": [
            "\u001b[0;31m---------------------------------------------------------------------------\u001b[0m",
            "\u001b[0;31mKeyboardInterrupt\u001b[0m                         Traceback (most recent call last)",
            "\u001b[0;32m<ipython-input-3-446f82533fd8>\u001b[0m in \u001b[0;36m<cell line: 3>\u001b[0;34m()\u001b[0m\n\u001b[1;32m      1\u001b[0m \u001b[0;31m# no 1\u001b[0m\u001b[0;34m\u001b[0m\u001b[0;34m\u001b[0m\u001b[0m\n\u001b[1;32m      2\u001b[0m \u001b[0;31m# variable and data type\u001b[0m\u001b[0;34m\u001b[0m\u001b[0;34m\u001b[0m\u001b[0m\n\u001b[0;32m----> 3\u001b[0;31m \u001b[0mname\u001b[0m \u001b[0;34m=\u001b[0m \u001b[0minput\u001b[0m\u001b[0;34m(\u001b[0m\u001b[0;34m\"Masukkan Nama Anda: \"\u001b[0m\u001b[0;34m)\u001b[0m\u001b[0;34m\u001b[0m\u001b[0;34m\u001b[0m\u001b[0m\n\u001b[0m\u001b[1;32m      4\u001b[0m \u001b[0mage\u001b[0m \u001b[0;34m=\u001b[0m \u001b[0minput\u001b[0m\u001b[0;34m(\u001b[0m\u001b[0;34m\"Masukkan Usia Anda: \"\u001b[0m\u001b[0;34m)\u001b[0m\u001b[0;34m\u001b[0m\u001b[0;34m\u001b[0m\u001b[0m\n\u001b[1;32m      5\u001b[0m \u001b[0mbb\u001b[0m \u001b[0;34m=\u001b[0m \u001b[0mfloat\u001b[0m\u001b[0;34m(\u001b[0m\u001b[0minput\u001b[0m\u001b[0;34m(\u001b[0m\u001b[0;34m\"Masukkan Berat Badan Anda (kg): \"\u001b[0m\u001b[0;34m)\u001b[0m\u001b[0;34m)\u001b[0m\u001b[0;34m\u001b[0m\u001b[0;34m\u001b[0m\u001b[0m\n",
            "\u001b[0;32m/usr/local/lib/python3.10/dist-packages/ipykernel/kernelbase.py\u001b[0m in \u001b[0;36mraw_input\u001b[0;34m(self, prompt)\u001b[0m\n\u001b[1;32m    849\u001b[0m                 \u001b[0;34m\"raw_input was called, but this frontend does not support input requests.\"\u001b[0m\u001b[0;34m\u001b[0m\u001b[0;34m\u001b[0m\u001b[0m\n\u001b[1;32m    850\u001b[0m             )\n\u001b[0;32m--> 851\u001b[0;31m         return self._input_request(str(prompt),\n\u001b[0m\u001b[1;32m    852\u001b[0m             \u001b[0mself\u001b[0m\u001b[0;34m.\u001b[0m\u001b[0m_parent_ident\u001b[0m\u001b[0;34m,\u001b[0m\u001b[0;34m\u001b[0m\u001b[0;34m\u001b[0m\u001b[0m\n\u001b[1;32m    853\u001b[0m             \u001b[0mself\u001b[0m\u001b[0;34m.\u001b[0m\u001b[0m_parent_header\u001b[0m\u001b[0;34m,\u001b[0m\u001b[0;34m\u001b[0m\u001b[0;34m\u001b[0m\u001b[0m\n",
            "\u001b[0;32m/usr/local/lib/python3.10/dist-packages/ipykernel/kernelbase.py\u001b[0m in \u001b[0;36m_input_request\u001b[0;34m(self, prompt, ident, parent, password)\u001b[0m\n\u001b[1;32m    893\u001b[0m             \u001b[0;32mexcept\u001b[0m \u001b[0mKeyboardInterrupt\u001b[0m\u001b[0;34m:\u001b[0m\u001b[0;34m\u001b[0m\u001b[0;34m\u001b[0m\u001b[0m\n\u001b[1;32m    894\u001b[0m                 \u001b[0;31m# re-raise KeyboardInterrupt, to truncate traceback\u001b[0m\u001b[0;34m\u001b[0m\u001b[0;34m\u001b[0m\u001b[0m\n\u001b[0;32m--> 895\u001b[0;31m                 \u001b[0;32mraise\u001b[0m \u001b[0mKeyboardInterrupt\u001b[0m\u001b[0;34m(\u001b[0m\u001b[0;34m\"Interrupted by user\"\u001b[0m\u001b[0;34m)\u001b[0m \u001b[0;32mfrom\u001b[0m \u001b[0;32mNone\u001b[0m\u001b[0;34m\u001b[0m\u001b[0;34m\u001b[0m\u001b[0m\n\u001b[0m\u001b[1;32m    896\u001b[0m             \u001b[0;32mexcept\u001b[0m \u001b[0mException\u001b[0m \u001b[0;32mas\u001b[0m \u001b[0me\u001b[0m\u001b[0;34m:\u001b[0m\u001b[0;34m\u001b[0m\u001b[0;34m\u001b[0m\u001b[0m\n\u001b[1;32m    897\u001b[0m                 \u001b[0mself\u001b[0m\u001b[0;34m.\u001b[0m\u001b[0mlog\u001b[0m\u001b[0;34m.\u001b[0m\u001b[0mwarning\u001b[0m\u001b[0;34m(\u001b[0m\u001b[0;34m\"Invalid Message:\"\u001b[0m\u001b[0;34m,\u001b[0m \u001b[0mexc_info\u001b[0m\u001b[0;34m=\u001b[0m\u001b[0;32mTrue\u001b[0m\u001b[0;34m)\u001b[0m\u001b[0;34m\u001b[0m\u001b[0;34m\u001b[0m\u001b[0m\n",
            "\u001b[0;31mKeyboardInterrupt\u001b[0m: Interrupted by user"
          ]
        }
      ]
    },
    {
      "cell_type": "markdown",
      "source": [
        "2. Diberikan nomor telepon berikut.\n",
        "\n",
        "phone_num = “+62801-0029-9000”\n",
        "\n",
        "ganti “+62” menjadi “0” dan hilangkan simbol “-”\n"
      ],
      "metadata": {
        "id": "WgK-qJbMmC6j"
      }
    },
    {
      "cell_type": "code",
      "source": [
        "# no 2\n",
        "phone_number = \"+6281-0029-9000\"\n",
        "modified_num = phone_number.replace(\"+62\", \"0\").replace(\"-\", \" \")\n",
        "print(modified_num)"
      ],
      "metadata": {
        "colab": {
          "base_uri": "https://localhost:8080/"
        },
        "id": "uz8IbQNTwsIH",
        "outputId": "c82063af-fc8f-4801-c2a5-32f019beab5a"
      },
      "execution_count": null,
      "outputs": [
        {
          "output_type": "stream",
          "name": "stdout",
          "text": [
            "081 0029 9000\n"
          ]
        }
      ]
    }
  ]
}